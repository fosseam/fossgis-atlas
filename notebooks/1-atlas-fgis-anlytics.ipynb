{
 "cells": [
  {
   "cell_type": "code",
   "execution_count": 1,
   "id": "c91ac41c-4db6-4158-968d-3cf05299d44e",
   "metadata": {
    "collapsed": true,
    "jupyter": {
     "outputs_hidden": true,
     "source_hidden": true
    }
   },
   "outputs": [
    {
     "name": "stdout",
     "output_type": "stream",
     "text": [
      "\n",
      "📅 2025-03-26\n",
      "  🏛 Bof1 (S8): 1 Events\n",
      "  🏛 Bof2 (S9): 2 Events\n",
      "  🏛 Bof3/Expert:innen: 1 Events\n",
      "  🏛 HS1 (Aula): 10 Events\n",
      "  🏛 HS2 (S10): 9 Events\n",
      "  🏛 HS3 (S1): 8 Events\n",
      "  🏛 HS4 (S2): 11 Events\n",
      "  🏛 WS1 (106): 2 Events\n",
      "  🏛 WS2 (107): 2 Events\n",
      "  🏛 WS3 (108): 2 Events\n",
      "\n",
      "📅 2025-03-27\n",
      "  🏛 Bof1 (S8): 5 Events\n",
      "  🏛 Bof2 (S9): 3 Events\n",
      "  🏛 Bof3/Expert:innen: 4 Events\n",
      "  🏛 HS1 (Aula): 12 Events\n",
      "  🏛 HS2 (S10): 12 Events\n",
      "  🏛 HS3 (S1): 13 Events\n",
      "  🏛 HS4 (S2): 13 Events\n",
      "  🏛 Poster (Zelt): 18 Events\n",
      "  🏛 WS1 (106): 4 Events\n",
      "  🏛 WS2 (107): 4 Events\n",
      "  🏛 WS3 (108): 3 Events\n",
      "\n",
      "📅 2025-03-28\n",
      "  🏛 Bof1 (S8): 2 Events\n",
      "  🏛 Bof2 (S9): 2 Events\n",
      "  🏛 Bof3/Expert:innen: 1 Events\n",
      "  🏛 HS1 (Aula): 11 Events\n",
      "  🏛 HS2 (S10): 15 Events\n",
      "  🏛 HS3 (S1): 6 Events\n",
      "  🏛 HS4 (S2): 7 Events\n",
      "  🏛 WS1 (106): 1 Events\n",
      "  🏛 WS2 (107): 2 Events\n",
      "  🏛 WS3 (108): 1 Events\n",
      "\n",
      "📅 2025-03-29\n",
      "  🏛 Bof1 (S8): 6 Events\n",
      "  🏛 Bof2 (S9): 5 Events\n",
      "  🏛 Bof3/Expert:innen: 4 Events\n",
      "  🏛 HS1 (Aula): 1 Events\n"
     ]
    }
   ],
   "source": [
    "# Events pro Tag und Raum\n",
    "\n",
    "import json\n",
    "from collections import defaultdict\n",
    "\n",
    "# Datei laden\n",
    "with open(\"data/2025/pretalx.json\", \"r\", encoding=\"utf-8\") as f:\n",
    "    data = json.load(f)\n",
    "\n",
    "# Struktur vorbereiten\n",
    "event_count = defaultdict(lambda: defaultdict(int))\n",
    "\n",
    "# Zugriff auf alle Tage im Schedule\n",
    "days = data[\"schedule\"][\"conference\"][\"days\"]\n",
    "\n",
    "# Pro Tag und Raum die Anzahl der Events zählen\n",
    "for day in days:\n",
    "    date = day[\"date\"]\n",
    "    for room_name, events in day[\"rooms\"].items():\n",
    "        event_count[date][room_name] += len(events)\n",
    "\n",
    "# Übersichtliche Ausgabe\n",
    "for date, rooms in event_count.items():\n",
    "    print(f\"\\n📅 {date}\")\n",
    "    for room, count in sorted(rooms.items()):\n",
    "        print(f\"  🏛 {room}: {count} Events\")\n"
   ]
  },
  {
   "cell_type": "code",
   "execution_count": 3,
   "id": "0fc69c02-3a69-40cb-91d5-323dc7e64d2e",
   "metadata": {
    "collapsed": true,
    "jupyter": {
     "outputs_hidden": true,
     "source_hidden": true
    }
   },
   "outputs": [
    {
     "name": "stdout",
     "output_type": "stream",
     "text": [
      "🎥 Aufzeichnungen pro Raum (Recorded / Total):\n",
      "  HS2 (S10)            34 / 36\n",
      "  HS1 (Aula)           31 / 34\n",
      "  HS4 (S2)             31 / 31\n",
      "  HS3 (S1)             26 / 27\n",
      "  WS2 (107)             8 / 8\n",
      "  Poster (Zelt)         7 / 18\n",
      "  Bof1 (S8)             6 / 14\n",
      "  Bof3/Expert:innen     6 / 10\n",
      "  WS1 (106)             6 / 7\n",
      "  Bof2 (S9)             5 / 12\n",
      "  WS3 (108)             5 / 6\n",
      "\n",
      "📊 Gesamtsumme:\n",
      "  🎞 Aufgezeichnete Events: 165\n",
      "  📋 Gesamte Events:        203\n"
     ]
    }
   ],
   "source": [
    "import json\n",
    "from collections import defaultdict\n",
    "\n",
    "# JSON einlesen\n",
    "with open(\"data/2025/pretalx.json\", \"r\", encoding=\"utf-8\") as f:\n",
    "    data = json.load(f)\n",
    "\n",
    "# Dict: Raum → [total_events, recorded_events]\n",
    "record_counts = defaultdict(lambda: [0, 0])\n",
    "\n",
    "# Durch alle Events iterieren\n",
    "for day in data[\"schedule\"][\"conference\"][\"days\"]:\n",
    "    for room, events in day[\"rooms\"].items():\n",
    "        for event in events:\n",
    "            record_counts[room][0] += 1\n",
    "            if not event.get(\"do_not_record\", False):\n",
    "                record_counts[room][1] += 1\n",
    "\n",
    "# Sortieren nach Anzahl der Aufzeichnungen (absteigend)\n",
    "sorted_rooms = sorted(record_counts.items(), key=lambda x: x[1][1], reverse=True)\n",
    "\n",
    "# Ausgabe + Zähler\n",
    "total_events = 0\n",
    "total_recorded = 0\n",
    "\n",
    "print(\"🎥 Aufzeichnungen pro Raum (Recorded / Total):\")\n",
    "for room, (total, recorded) in sorted_rooms:\n",
    "    print(f\"  {room:<20} {recorded:>2} / {total}\")\n",
    "    total_events += total\n",
    "    total_recorded += recorded\n",
    "\n",
    "# Summen anzeigen\n",
    "print(\"\\n📊 Gesamtsumme:\")\n",
    "print(f\"  🎞 Aufgezeichnete Events: {total_recorded}\")\n",
    "print(f\"  📋 Gesamte Events:        {total_events}\")\n"
   ]
  },
  {
   "cell_type": "code",
   "execution_count": 4,
   "id": "0bb5834c-00e2-4d7c-bd5a-da3a18115bc9",
   "metadata": {
    "collapsed": true,
    "jupyter": {
     "outputs_hidden": true,
     "source_hidden": true
    }
   },
   "outputs": [
    {
     "ename": "SyntaxError",
     "evalue": "unterminated string literal (detected at line 39) (2810990289.py, line 39)",
     "output_type": "error",
     "traceback": [
      "\u001b[0;36m  Cell \u001b[0;32mIn[4], line 39\u001b[0;36m\u001b[0m\n\u001b[0;31m    print(f\"✅ Exportiert\u001b[0m\n\u001b[0m          ^\u001b[0m\n\u001b[0;31mSyntaxError\u001b[0m\u001b[0;31m:\u001b[0m unterminated string literal (detected at line 39)\n"
     ]
    }
   ],
   "source": [
    "import json\n",
    "import os\n",
    "\n",
    "def export_schedule_segment(input_path, output_dir, day_index, room_name):\n",
    "    # Datei laden\n",
    "    with open(input_path, \"r\", encoding=\"utf-8\") as f:\n",
    "        data = json.load(f)\n",
    "\n",
    "    # Konferenztage extrahieren\n",
    "    days = data[\"schedule\"][\"conference\"][\"days\"]\n",
    "\n",
    "    # Sicherheitscheck\n",
    "    if not (0 <= day_index - 1 < len(days)):\n",
    "        raise ValueError(f\"Ungültiger Tag: {day_index}\")\n",
    "\n",
    "    day = days[day_index - 1]\n",
    "    events = day[\"rooms\"].get(room_name)\n",
    "\n",
    "    if not events:\n",
    "        raise ValueError(f\"Keine Events für Raum: {room_name}\")\n",
    "\n",
    "    # Nur relevante Daten extrahieren\n",
    "    segment = {\n",
    "        \"date\": day[\"date\"],\n",
    "        \"room\": room_name,\n",
    "        \"events\": events\n",
    "    }\n",
    "\n",
    "    # Slug erzeugen\n",
    "    room_slug = room_name.lower().replace(\" \", \"\").replace(\"(\", \"\").replace(\")\", \"\").replace(\"/\", \"-\")\n",
    "    filename = f\"schedule-part-{day_index:02d}-{room_slug}.json\"\n",
    "    output_path = os.path.join(output_dir, filename)\n",
    "\n",
    "    # Export\n",
    "    os.makedirs(output_dir, exist_ok=True)\n",
    "    with open(output_path, \"w\", encoding=\"utf-8\") as f:\n",
    "        json.dump(segment, f, indent=2, ensure_ascii=False)\n",
    "\n",
    "    print(f\"✅ Exportiert\n"
   ]
  },
  {
   "cell_type": "code",
   "execution_count": 9,
   "id": "8512f977-93e3-4fee-b723-8956cfc1ff85",
   "metadata": {},
   "outputs": [],
   "source": [
    "# Methode um HS1-HS4 und D1 und D4 zu splitten\n",
    "\n",
    "\n",
    "import json\n",
    "import os\n",
    "\n",
    "def split_main_rooms_by_day(input_path, output_dir):\n",
    "    with open(input_path, \"r\", encoding=\"utf-8\") as f:\n",
    "        data = json.load(f)\n",
    "\n",
    "    days = data[\"schedule\"][\"conference\"][\"days\"]\n",
    "    main_rooms = [\"HS1 (Aula)\", \"HS2 (S10)\", \"HS3 (S1)\", \"HS4 (S2)\"]\n",
    "\n",
    "    os.makedirs(output_dir, exist_ok=True)\n",
    "\n",
    "    for i, day in enumerate(days, start=1):\n",
    "        date = day[\"date\"]\n",
    "        for room in main_rooms:\n",
    "            events = day[\"rooms\"].get(room)\n",
    "            if not events:\n",
    "                continue\n",
    "\n",
    "            # Kürzel extrahieren (z. B. 'HS1' aus 'HS1 (Aula)')\n",
    "            short_room = room.split(\" \")[0].lower()\n",
    "            filename = f\"schedule-{short_room}-{i:02d}.json\"\n",
    "            output_path = os.path.join(output_dir, filename)\n",
    "\n",
    "            segment = {\n",
    "                \"day\": i,\n",
    "                \"date\": date,\n",
    "                \"room\": room,\n",
    "                \"events\": events\n",
    "            }\n",
    "\n",
    "            with open(output_path, \"w\", encoding=\"utf-8\") as f_out:\n",
    "                json.dump(segment, f_out, indent=2, ensure_ascii=False)\n",
    "\n",
    "            print(f\"✅ Exportiert: {filename} ({len(events)} Events)\")\n"
   ]
  },
  {
   "cell_type": "code",
   "execution_count": 8,
   "id": "f9f4d0a8-d71e-4786-bf60-d39a51cedb6a",
   "metadata": {
    "collapsed": true,
    "jupyter": {
     "outputs_hidden": true
    }
   },
   "outputs": [
    {
     "name": "stdout",
     "output_type": "stream",
     "text": [
      "✅ Exportiert: schedule-hs1-01.json (10 Events)\n",
      "✅ Exportiert: schedule-hs2-01.json (9 Events)\n",
      "✅ Exportiert: schedule-hs3-01.json (8 Events)\n",
      "✅ Exportiert: schedule-hs4-01.json (11 Events)\n",
      "✅ Exportiert: schedule-hs1-02.json (12 Events)\n",
      "✅ Exportiert: schedule-hs2-02.json (12 Events)\n",
      "✅ Exportiert: schedule-hs3-02.json (13 Events)\n",
      "✅ Exportiert: schedule-hs4-02.json (13 Events)\n",
      "✅ Exportiert: schedule-hs1-03.json (11 Events)\n",
      "✅ Exportiert: schedule-hs2-03.json (15 Events)\n",
      "✅ Exportiert: schedule-hs3-03.json (6 Events)\n",
      "✅ Exportiert: schedule-hs4-03.json (7 Events)\n",
      "✅ Exportiert: schedule-hs1-04.json (1 Events)\n"
     ]
    }
   ],
   "source": [
    "# Aufruf von split_main_rooms\n",
    "\n",
    "split_main_rooms_by_day(\n",
    "    input_path=\"data/2025/pretalx.json\",\n",
    "    output_dir=\"data/2025/parts\"\n",
    ")\n"
   ]
  },
  {
   "cell_type": "code",
   "execution_count": 12,
   "id": "497417ec-ca9a-4b92-aea6-5dd6d83f6103",
   "metadata": {},
   "outputs": [],
   "source": [
    "# Methoden-Definition von export_small_rooms\n",
    "\n",
    "import json\n",
    "import os\n",
    "\n",
    "def export_small_rooms(input_path, output_dir):\n",
    "    with open(input_path, \"r\", encoding=\"utf-8\") as f:\n",
    "        data = json.load(f)\n",
    "\n",
    "    days = data[\"schedule\"][\"conference\"][\"days\"]\n",
    "\n",
    "    # Mapping: Originalname → Slug (angepasst: \"bof3\" statt \"bof3-expertinnen\")\n",
    "    room_map = {\n",
    "        \"WS2 (107)\": \"ws2\",\n",
    "        \"Poster (Zelt)\": \"poster\",\n",
    "        \"Bof1 (S8)\": \"bof1\",\n",
    "        \"Bof3/Expert:innen\": \"bof3\",   # <- hier geändert\n",
    "        \"WS1 (106)\": \"ws1\",\n",
    "        \"Bof2 (S9)\": \"bof2\",\n",
    "        \"WS3 (108)\": \"ws3\"\n",
    "    }\n",
    "\n",
    "    # Vorbereitung\n",
    "    room_events = {slug: [] for slug in room_map.values()}\n",
    "    os.makedirs(output_dir, exist_ok=True)\n",
    "\n",
    "    # Sammeln\n",
    "    for day in days:\n",
    "        for room_full, events in day[\"rooms\"].items():\n",
    "            if room_full in room_map:\n",
    "                slug = room_map[room_full]\n",
    "                room_events[slug].extend(events)\n",
    "\n",
    "    # Schreiben\n",
    "    for slug, events in room_events.items():\n",
    "        output_path = os.path.join(output_dir, f\"schedule-{slug}.json\")\n",
    "        segment = {\n",
    "            \"room\": slug,\n",
    "            \"events\": events\n",
    "        }\n",
    "\n",
    "        with open(output_path, \"w\", encoding=\"utf-8\") as f_out:\n",
    "            json.dump(segment, f_out, indent=2, ensure_ascii=False)\n",
    "\n",
    "        print(f\"✅ Exportiert: schedule-{slug}.json ({len(events)} Events)\")\n"
   ]
  },
  {
   "cell_type": "code",
   "execution_count": 13,
   "id": "e900da92-3e3f-40b2-adc5-a5412942ee4c",
   "metadata": {},
   "outputs": [
    {
     "name": "stdout",
     "output_type": "stream",
     "text": [
      "✅ Exportiert: schedule-ws2.json (8 Events)\n",
      "✅ Exportiert: schedule-poster.json (18 Events)\n",
      "✅ Exportiert: schedule-bof1.json (14 Events)\n",
      "✅ Exportiert: schedule-bof3.json (10 Events)\n",
      "✅ Exportiert: schedule-ws1.json (7 Events)\n",
      "✅ Exportiert: schedule-bof2.json (12 Events)\n",
      "✅ Exportiert: schedule-ws3.json (6 Events)\n"
     ]
    }
   ],
   "source": [
    "# Aufruf von export_small_rooms\n",
    "\n",
    "export_small_rooms(\n",
    "    input_path=\"data/2025/pretalx.json\",\n",
    "    output_dir=\"data/2025/parts\"\n",
    ")\n"
   ]
  }
 ],
 "metadata": {
  "kernelspec": {
   "display_name": "Python 3 (ipykernel)",
   "language": "python",
   "name": "python3"
  },
  "language_info": {
   "codemirror_mode": {
    "name": "ipython",
    "version": 3
   },
   "file_extension": ".py",
   "mimetype": "text/x-python",
   "name": "python",
   "nbconvert_exporter": "python",
   "pygments_lexer": "ipython3",
   "version": "3.11.4"
  }
 },
 "nbformat": 4,
 "nbformat_minor": 5
}
